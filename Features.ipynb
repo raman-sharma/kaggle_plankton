{
 "metadata": {
  "name": "",
  "signature": "sha256:b3372104c156ba97ecdfa36c4bb7e4e65233f8e0b4c7e8b4f55254272760b792"
 },
 "nbformat": 3,
 "nbformat_minor": 0,
 "worksheets": [
  {
   "cells": [
    {
     "cell_type": "code",
     "collapsed": false,
     "input": [
      "import os\n",
      "from skimage.io import imread_collection\n",
      "import numpy as np\n",
      "\n",
      "folders = os.listdir('data/train')\n",
      "train = np.empty((0, 2))\n",
      "\n",
      "for folder in folders:\n",
      "    examples = [[folder, os.path.join('data/train', folder, example)] for\n",
      "                example in os.listdir(os.path.join('data/train', folder))]\n",
      "    examples = examples[:1]\n",
      "    train = np.concatenate((train, examples), axis=0)\n",
      "\n",
      "train = train[:100]\n",
      "train_y = train[:, 0]\n",
      "train_x = train[:, 1]\n",
      "classes = list(set(train_y))\n",
      "\n",
      "classes.sort()\n",
      "train_x = np.array(imread_collection(train_x, conserve_memory=False))"
     ],
     "language": "python",
     "metadata": {},
     "outputs": [],
     "prompt_number": 1
    },
    {
     "cell_type": "code",
     "collapsed": false,
     "input": [
      "from transformers import ResampleImages, NormalizeImages\n",
      "crop = NormalizeImages(capture_percentage=.8)\n",
      "resize = ResampleImages(64)\n",
      "cropped = crop.fit_transform(train_x, train_y)\n",
      "resized = resize.fit_transform(cropped, train_y)"
     ],
     "language": "python",
     "metadata": {},
     "outputs": [],
     "prompt_number": 43
    },
    {
     "cell_type": "code",
     "collapsed": false,
     "input": [
      "from scipy import fftpack\n",
      "from matplotlib import pyplot as plt\n",
      "size = 64 # crop.size\n",
      "offset = 0\n",
      "limit = 5\n",
      "print(size)\n",
      "\n",
      "for i in range(limit):\n",
      "    image = resized[offset + i].reshape((size, size))\n",
      "    fft1 = np.abs(fftpack.fftshift(fftpack.fft2(image)))\n",
      "    fft2 = fft1 ** 2\n",
      "    plt.subplot(3, limit, i + 1)\n",
      "    plt.title(train_y[offset + i])\n",
      "    plt.imshow(image, plt.cm.Greys)\n",
      "    plt.subplot(3, limit, i + limit + 1)\n",
      "    plt.imshow(fft1)\n",
      "    plt.subplot(3, limit, i + limit * 2 + 1)\n",
      "    plt.imshow(fft2)\n",
      "plt.show()"
     ],
     "language": "python",
     "metadata": {},
     "outputs": [
      {
       "output_type": "stream",
       "stream": "stdout",
       "text": [
        "64\n"
       ]
      }
     ],
     "prompt_number": 57
    },
    {
     "cell_type": "code",
     "collapsed": false,
     "input": [
      "{}"
     ],
     "language": "python",
     "metadata": {},
     "outputs": []
    }
   ],
   "metadata": {}
  }
 ]
}